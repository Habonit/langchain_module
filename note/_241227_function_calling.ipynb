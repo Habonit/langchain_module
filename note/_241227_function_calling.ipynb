{
 "cells": [
  {
   "cell_type": "code",
   "execution_count": 11,
   "metadata": {},
   "outputs": [],
   "source": [
    "from langchain_community.chat_models import ChatOpenAI\n",
    "from langchain.prompts import PromptTemplate\n",
    "import json\n",
    "\n",
    "def get_weather(lon, lat):\n",
    "    print('call an api...')\n",
    "\n",
    "function = {\n",
    "    \"name\": \"create_quiz\",\n",
    "    \"description\": \"function that takes a list of questions and answers and returns a quiz\",\n",
    "    \"parameters\": {\n",
    "        \"type\": \"object\",\n",
    "        \"properties\": {\n",
    "            \"questions\": {\n",
    "                \"type\": \"array\",\n",
    "                \"items\": {\n",
    "                    \"type\": \"object\",\n",
    "                    \"properties\": {\n",
    "                        \"question\": {\n",
    "                            \"type\": \"string\"\n",
    "                        },\n",
    "                        \"answers\": {\n",
    "                            \"type\": \"array\",\n",
    "                            \"items\": {\n",
    "                                \"type\": \"object\",\n",
    "                                \"properties\": {\n",
    "                                    \"answer\": {\n",
    "                                        \"type\": \"string\"\n",
    "                                    },\n",
    "                                    \"correct\": {\n",
    "                                        \"type\": \"boolean\"\n",
    "                                    }\n",
    "                                },\n",
    "                                \"required\": [\"answer\", \"correct\"]\n",
    "                            }\n",
    "                        }\n",
    "                    },\n",
    "                    \"required\": [\"question\", \"answers\"]\n",
    "                }\n",
    "            }\n",
    "        },\n",
    "        \"required\": [\"questions\"]\n",
    "    }\n",
    "}\n",
    "\n",
    "llm = ChatOpenAI(\n",
    "    temperature=0.1\n",
    ").bind(\n",
    "    function_call= {\n",
    "        \"name\":\"create_quiz\"\n",
    "    },\n",
    "    functions=[\n",
    "        function\n",
    "    ]\n",
    ")\n",
    "\n",
    "prompt = PromptTemplate.from_template(\"How is the weather in {city} right now\")\n",
    "\n",
    "chain = prompt | llm\n",
    "\n",
    "response = chain.invoke({'city':'rome'})\n",
    "response = response.additional_kwargs['function_call']['arguments']\n",
    "r = json.loads(response)\n"
   ]
  },
  {
   "cell_type": "code",
   "execution_count": 12,
   "metadata": {},
   "outputs": [
    {
     "data": {
      "text/plain": [
       "{'questions': [{'question': 'What is the capital of Italy?',\n",
       "   'answers': [{'answer': 'Rome', 'correct': True},\n",
       "    {'answer': 'Paris', 'correct': False},\n",
       "    {'answer': 'Berlin', 'correct': False}]},\n",
       "  {'question': 'What is the weather like in Rome right now?',\n",
       "   'answers': [{'answer': 'Sunny', 'correct': False},\n",
       "    {'answer': 'Cloudy', 'correct': True},\n",
       "    {'answer': 'Rainy', 'correct': False}]}]}"
      ]
     },
     "execution_count": 12,
     "metadata": {},
     "output_type": "execute_result"
    }
   ],
   "source": [
    "r"
   ]
  },
  {
   "cell_type": "code",
   "execution_count": null,
   "metadata": {},
   "outputs": [],
   "source": []
  }
 ],
 "metadata": {
  "kernelspec": {
   "display_name": "venv",
   "language": "python",
   "name": "python3"
  },
  "language_info": {
   "codemirror_mode": {
    "name": "ipython",
    "version": 3
   },
   "file_extension": ".py",
   "mimetype": "text/x-python",
   "name": "python",
   "nbconvert_exporter": "python",
   "pygments_lexer": "ipython3",
   "version": "3.9.21"
  }
 },
 "nbformat": 4,
 "nbformat_minor": 2
}
