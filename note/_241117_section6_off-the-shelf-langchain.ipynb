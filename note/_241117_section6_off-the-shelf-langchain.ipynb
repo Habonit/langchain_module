{
 "cells": [
  {
   "cell_type": "code",
   "execution_count": null,
   "metadata": {},
   "outputs": [
    {
     "name": "stderr",
     "output_type": "stream",
     "text": [
      "Created a chunk of size 963, which is longer than the specified 600\n",
      "Created a chunk of size 774, which is longer than the specified 600\n",
      "Created a chunk of size 954, which is longer than the specified 600\n",
      "Created a chunk of size 922, which is longer than the specified 600\n",
      "Created a chunk of size 1168, which is longer than the specified 600\n",
      "Created a chunk of size 821, which is longer than the specified 600\n",
      "Created a chunk of size 700, which is longer than the specified 600\n",
      "Created a chunk of size 745, which is longer than the specified 600\n",
      "Created a chunk of size 735, which is longer than the specified 600\n",
      "Created a chunk of size 1110, which is longer than the specified 600\n",
      "Created a chunk of size 991, which is longer than the specified 600\n",
      "Created a chunk of size 990, which is longer than the specified 600\n",
      "Created a chunk of size 1182, which is longer than the specified 600\n",
      "Created a chunk of size 1491, which is longer than the specified 600\n",
      "Created a chunk of size 1401, which is longer than the specified 600\n",
      "Created a chunk of size 1130, which is longer than the specified 600\n",
      "Created a chunk of size 1326, which is longer than the specified 600\n",
      "Created a chunk of size 1449, which is longer than the specified 600\n",
      "Created a chunk of size 1364, which is longer than the specified 600\n",
      "Created a chunk of size 999, which is longer than the specified 600\n"
     ]
    },
    {
     "name": "stderr",
     "output_type": "stream",
     "text": [
      "Created a chunk of size 930, which is longer than the specified 600\n",
      "Created a chunk of size 1022, which is longer than the specified 600\n",
      "Created a chunk of size 1260, which is longer than the specified 600\n",
      "Created a chunk of size 795, which is longer than the specified 600\n",
      "Created a chunk of size 1293, which is longer than the specified 600\n",
      "Created a chunk of size 649, which is longer than the specified 600\n"
     ]
    },
    {
     "data": {
      "text/plain": [
       "\"Victory Mansions is a building where Winston Smith resides, located in a run-down and grim area of London. The living conditions in Victory Mansions are poor, with the hallway smelling of boiled cabbage and old rag mats. The building is adorned with a large poster depicting the face of Big Brother, a figurehead of the oppressive government in George Orwell's dystopian world. The atmosphere of Victory Mansions is further emphasized by the presence of the nearby Ministry of Truth, one of the four massive government buildings that dominate the skyline. The Ministry of Truth, along with the Ministries of Peace, Love, and Plenty, collectively govern all aspects of society in this totalitarian regime.\""
      ]
     },
     "execution_count": 6,
     "metadata": {},
     "output_type": "execute_result"
    }
   ],
   "source": [
    "# rag(retrieval augmented generation): 검색 증강 기법\n",
    "\n",
    "from langchain.chat_models import ChatOpenAI\n",
    "from langchain.document_loaders import TextLoader, PyPDFLoader, UnstructuredFileLoader\n",
    "from langchain.text_splitter import RecursiveCharacterTextSplitter, CharacterTextSplitter\n",
    "from langchain.embeddings import OpenAIEmbeddings, CacheBackedEmbeddings\n",
    "from langchain.vectorstores import Chroma, FAISS\n",
    "from langchain.storage import LocalFileStore\n",
    "from langchain.chains import RetrievalQA\n",
    "\n",
    "llm = ChatOpenAI(temperature=0.1)\n",
    "\n",
    "cache_dir = LocalFileStore(\"../.cache/\")\n",
    "\n",
    "\n",
    "# # chunk_size는 토큰의 길이를 제한 / chunk_overlap은 앞 부분 일부분을 겹치게 만들게 합니다.\n",
    "# splitter = RecursiveCharacterTextSplitter(\n",
    "#     chunk_size=100,\n",
    "#     chunk_overlap=10\n",
    "# )\n",
    "\n",
    "# 아래는 separator가 있습니다. \n",
    "# RecursiveCharacterTextSplitter의 기능을 모두 갖고 있으면서 seperator가 있기 때문에 해당 방법을 추천합니다. \n",
    "# 토큰화 방법에 대한 직관적인 방법을 보고 싶으면 해당 경로를 참고하세요\n",
    "# https://platform.openai.com/tokenizer\n",
    "\n",
    "splitter = CharacterTextSplitter(\n",
    "    separator = '\\n',\n",
    "    chunk_size = 600,\n",
    "    chunk_overlap= 50,\n",
    ")\n",
    "\n",
    "# 해당 loader는 pdf, txt, docx와 모두 호환됩니다.\n",
    "loader = UnstructuredFileLoader(\"../files/_241117_chapter_one.txt\")\n",
    "docs = loader.load_and_split(text_splitter=splitter)\n",
    "\n",
    "# embedding에 대한 직관적인 이해가 필요하다면 다음 링크를 참고한다.\n",
    "# https://turbomaze.github.io/word2vecjson/\n",
    "embeddings = OpenAIEmbeddings()\n",
    "cached_embeddings = CacheBackedEmbeddings.from_bytes_store(\n",
    "    embeddings, cache_dir\n",
    ")\n",
    "# FAISS와 CHROMA를 변경할 수 있다ㅣ\n",
    "# vectorstore = Chroma.from_documents(docs[:10], cached_embeddings)\n",
    "vectorstore = FAISS.from_documents(docs[:10], cached_embeddings)\n",
    "\n",
    "# chain type: stuff, refine, \n",
    "# UserWarning: The apply_and_parse method is deprecated, instead pass an output parser directly to LLMChain.\n",
    "# map_reduce와 map_rerank는 depricated되어서 오류를 내보냅니다. \n",
    "chain = RetrievalQA.from_chain_type(\n",
    "    llm=llm,\n",
    "    chain_type='refine',\n",
    "    retriever=vectorstore.as_retriever(),\n",
    ")\n",
    "\n",
    "chain.run(\"Describe Victory Mansions\")"
   ]
  },
  {
   "cell_type": "code",
   "execution_count": null,
   "metadata": {},
   "outputs": [],
   "source": []
  }
 ],
 "metadata": {
  "kernelspec": {
   "display_name": "Python 3",
   "language": "python",
   "name": "python3"
  },
  "language_info": {
   "codemirror_mode": {
    "name": "ipython",
    "version": 3
   },
   "file_extension": ".py",
   "mimetype": "text/x-python",
   "name": "python",
   "nbconvert_exporter": "python",
   "pygments_lexer": "ipython3",
   "version": "3.12.3"
  }
 },
 "nbformat": 4,
 "nbformat_minor": 2
}
