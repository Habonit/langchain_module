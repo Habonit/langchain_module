{
 "cells": [
  {
   "cell_type": "code",
   "execution_count": null,
   "metadata": {},
   "outputs": [
    {
     "data": {
      "text/plain": [
       "\"A potato is a root vegetable that is native to the Andean region of South America. It is one of the world's most important crops, and is widely grown in many parts of the world. Potatoes are rich in starch and have a low water content, which makes them a good source of carbohydrates. They can be cooked in a variety of ways, including boiling, baking, frying, and roasting. Potatoes are often served as a side dish, and are also used as an ingredient in many other dishes, such as soups, stews, and casseroles. They can be eaten with a variety of toppings, such as butter, sour cream, gravy, and cheese.\""
      ]
     },
     "execution_count": 4,
     "metadata": {},
     "output_type": "execute_result"
    }
   ],
   "source": [
    "\n",
    "from langchain_huggingface import HuggingFaceEndpoint\n",
    "from langchain.prompts import PromptTemplate\n",
    "\n",
    "# 더이상 langchain은 huggingface hub를 사용하지 않으므로 아래와 같이 모델을 받아와  api로 통신하도록 한다.\n",
    "llm = HuggingFaceEndpoint(\n",
    "repo_id=\"mistralai/Mistral-7B-Instruct-v0.3\",\n",
    ")\n",
    "\n",
    "# instruct 모델은 format을 엄격하게 준수해야 한다. \n",
    "prompt =PromptTemplate.from_template('[INST] What is the meaning of {word}[/INST]')\n",
    "chain = prompt | llm\n",
    "chain.invoke(\n",
    "{\n",
    "'word':'potato'\n",
    "}\n",
    ")"
   ]
  },
  {
   "cell_type": "code",
   "execution_count": 11,
   "metadata": {},
   "outputs": [
    {
     "data": {
      "application/vnd.jupyter.widget-view+json": {
       "model_id": "5412e380f98840f6ac9cae64a6499dcd",
       "version_major": 2,
       "version_minor": 0
      },
      "text/plain": [
       "tokenizer_config.json:   0%|          | 0.00/50.5k [00:00<?, ?B/s]"
      ]
     },
     "metadata": {},
     "output_type": "display_data"
    },
    {
     "data": {
      "application/vnd.jupyter.widget-view+json": {
       "model_id": "26aae55576354db190d85f6dbf8c03af",
       "version_major": 2,
       "version_minor": 0
      },
      "text/plain": [
       "tokenizer.json:   0%|          | 0.00/9.09M [00:00<?, ?B/s]"
      ]
     },
     "metadata": {},
     "output_type": "display_data"
    },
    {
     "data": {
      "application/vnd.jupyter.widget-view+json": {
       "model_id": "8cd12f6adc5f46278f94ec01162440b4",
       "version_major": 2,
       "version_minor": 0
      },
      "text/plain": [
       "special_tokens_map.json:   0%|          | 0.00/301 [00:00<?, ?B/s]"
      ]
     },
     "metadata": {},
     "output_type": "display_data"
    },
    {
     "data": {
      "application/vnd.jupyter.widget-view+json": {
       "model_id": "0bbb33314b0749b597462523fdbd3387",
       "version_major": 2,
       "version_minor": 0
      },
      "text/plain": [
       "config.json:   0%|          | 0.00/843 [00:00<?, ?B/s]"
      ]
     },
     "metadata": {},
     "output_type": "display_data"
    },
    {
     "data": {
      "application/vnd.jupyter.widget-view+json": {
       "model_id": "61ca5d8bf1474f37ab35ea82b9794295",
       "version_major": 2,
       "version_minor": 0
      },
      "text/plain": [
       "model.safetensors:   0%|          | 0.00/2.47G [00:00<?, ?B/s]"
      ]
     },
     "metadata": {},
     "output_type": "display_data"
    },
    {
     "data": {
      "application/vnd.jupyter.widget-view+json": {
       "model_id": "c0d67fa9d88043329699e8cea7c5b1f3",
       "version_major": 2,
       "version_minor": 0
      },
      "text/plain": [
       "generation_config.json:   0%|          | 0.00/185 [00:00<?, ?B/s]"
      ]
     },
     "metadata": {},
     "output_type": "display_data"
    },
    {
     "data": {
      "text/plain": [
       "'A potato is a tuberous root crop of the genus Solanum. They are a member of the nightshade family, which includes tomatoes, eggplants, and peppers. Potatoes are grown for their edible tubers, which are harvested after the plant has flowered and died. Potatoes are an important food source in many cultures, and are a staple of many diets. Potato is the fourth most important food crop after rice, wheat, and maize. The potato is native to the Americas, and was brought to Europe by the Spanish in the 16th century. It was introduced to Britain by the English in the 17th century, and was cultivated in Ireland from the 18th century. The potato is a major source of carbohydrates in many diets, and is a staple of many diets in many countries. Potatoes are a source of carbohydrates, protein, vitamins, minerals, and dietary fiber. They are also a source of energy, and are a good source of potassium and iron. Potatoes are a good source of carbohydrates, protein, vitamins, minerals, and dietary fiber. They are also a good source of energy, and are a good source of potassium and iron. The potato is a root vegetable that is a member of the nightshade family. It is a member of the Solanaceae family, which includes tomatoes, peppers, and eggplants. The potato is a member of the Solanaceae family, which includes tomatoes, peppers, and eggplants. The potato is a member of the Solanaceae family, which includes tomatoes, peppers, and eggplants. The potato is a member of the Solanaceae family, which includes tomatoes, peppers, and eggplants. The potato is a member of the Solanaceae family, which includes tomatoes, peppers, and eggplants. The potato is a member of the Solanaceae family, which includes tomatoes, peppers, and eggplants. The potato is a member of the Solanaceae family, which includes tomatoes, peppers, and eggplants. The potato is a member of the Solanaceae family, which includes tomatoes, peppers, and eggplants. The potato is a member of the Solanaceae family, which includes tomatoes, peppers, and eggplants. The potato is a member of the Solanaceae family, which includes tomatoes, peppers, and eggplants. The potato is a member of the Solanaceae family, which includes tomatoes, peppers, and eggplants. The potato is a member of the Solanaceae family, which includes tomatoes, peppers, and'"
      ]
     },
     "execution_count": 11,
     "metadata": {},
     "output_type": "execute_result"
    }
   ],
   "source": [
    "# 아래는 허깅페이스에서 불러온 모델에 파이프라인을 달 때 사용하는 것입니다. \n",
    "from langchain_community.llms.huggingface_pipeline import HuggingFacePipeline\n",
    "from langchain.prompts import PromptTemplate\n",
    "\n",
    "# langchain_community를 사용하도록 한다. 그냥 langchain은 더이상 사용되지 않는다. \n",
    "# 참조: https://wikidocs.net/233804\n",
    "# device = 0 은 gpu / -1은 cpu\n",
    "llm = HuggingFacePipeline.from_model_id(\n",
    "    model_id = 'meta-llama/Llama-3.2-1B',\n",
    "    task = 'text-generation',\n",
    "    pipeline_kwargs = {'max_new_tokens':512},\n",
    "    device=0,\n",
    ")\n",
    "\n",
    "# instruct 모델은 format을 엄격하게 준수해야 한다. \n",
    "prompt =PromptTemplate.from_template('A {word} is a')\n",
    "chain = prompt | llm\n",
    "chain.invoke(\n",
    "{\n",
    "'word':'potato'\n",
    "}\n",
    ")"
   ]
  },
  {
   "cell_type": "code",
   "execution_count": null,
   "metadata": {},
   "outputs": [],
   "source": [
    "# 아래는 GPT4LL 단독으로 모델을 불러오는 방법입니다. \n",
    "# Default is None, in which case models will be stored in `~/.cache/gpt4all/`. 여기에 저장됩니다\n",
    "from gpt4all import GPT4All\n",
    "\n",
    "model = GPT4All(\"Meta-Llama-3-8B-Instruct.Q4_0.gguf\") # downloads / loads a 4.66GB LLM\n",
    "with model.chat_session():\n",
    "    print(model.generate(\"How can I run LLMs efficiently on my laptop?\", max_tokens=1024))"
   ]
  },
  {
   "cell_type": "code",
   "execution_count": null,
   "metadata": {},
   "outputs": [],
   "source": [
    "from langchain.prompts import ChatPromptTemplate\n",
    "# https://github.com/langchain-ai/langchain/issues/15362\n",
    "from langchain.llms.gpt4all import GPT4All\n",
    "from langchain_core.output_parsers import StrOutputParser\n",
    "from langchain_core.callbacks import StreamingStdOutCallbackHandler\n",
    "\n",
    "# GPT4All 언어 모델 초기화\n",
    "# model는 GPT4All 모델 파일의 경로를 지정\n",
    "llm = GPT4All(\n",
    "    model=\"Meta-Llama-3-8B-Instruct.Q4_0.gguf\",\n",
    "    backend=\"gpu\",  # GPU 설정\n",
    "    streaming=True,  # 스트리밍 설정\n",
    "    callbacks=[StreamingStdOutCallbackHandler()],  # 콜백 설정\n",
    ")\n",
    "\n",
    "prompt =PromptTemplate.from_template(\n",
    "    'You are a helpful assistant that defines words. Define this word: {word}'\n",
    ")\n",
    "chain = prompt | llm\n",
    "chain.invoke(\n",
    "{\n",
    "'word':'potato'\n",
    "}\n",
    ")"
   ]
  },
  {
   "cell_type": "code",
   "execution_count": null,
   "metadata": {},
   "outputs": [],
   "source": []
  }
 ],
 "metadata": {
  "kernelspec": {
   "display_name": "venv",
   "language": "python",
   "name": "python3"
  },
  "language_info": {
   "codemirror_mode": {
    "name": "ipython",
    "version": 3
   },
   "file_extension": ".py",
   "mimetype": "text/x-python",
   "name": "python",
   "nbconvert_exporter": "python",
   "pygments_lexer": "ipython3",
   "version": "3.9.21"
  }
 },
 "nbformat": 4,
 "nbformat_minor": 2
}
