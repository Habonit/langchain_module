{
 "cells": [
  {
   "cell_type": "code",
   "execution_count": 16,
   "metadata": {},
   "outputs": [
    {
     "name": "stdout",
     "output_type": "stream",
     "text": [
      "PDF 파일이 저장되었습니다: ./files/_241117_chapter_one.pdf\n"
     ]
    }
   ],
   "source": [
    "# text to pdf\n",
    "from fpdf import FPDF\n",
    "\n",
    "def txt_to_pdf(txt_file, pdf_file):\n",
    "    # PDF 객체 생성\n",
    "    pdf = FPDF()\n",
    "    pdf.set_auto_page_break(auto=True, margin=15)\n",
    "    pdf.add_page()\n",
    "    pdf.set_font(\"Arial\", size=12)\n",
    "\n",
    "    # 텍스트 파일 읽기\n",
    "    with open(txt_file, \"r\", encoding=\"utf-8\") as file:\n",
    "        for line in file:\n",
    "            # 텍스트를 PDF에 추가\n",
    "            pdf.multi_cell(0, 10, line.strip())\n",
    "    \n",
    "    # PDF 파일 저장\n",
    "    pdf.output(pdf_file)\n",
    "    print(f\"PDF 파일이 저장되었습니다: {pdf_file}\")\n",
    "\n",
    "# 텍스트 파일과 PDF 파일 경로 설정\n",
    "txt_file = \"./files/_241117_chapter_one.txt\"  # 저장한 텍스트 파일 이름\n",
    "pdf_file = \"./files/_241117_chapter_one.pdf\"  # 저장할 PDF 파일 이름\n",
    "\n",
    "# 함수 실행\n",
    "txt_to_pdf(txt_file, pdf_file)"
   ]
  },
  {
   "cell_type": "code",
   "execution_count": null,
   "metadata": {},
   "outputs": [],
   "source": []
  }
 ],
 "metadata": {
  "kernelspec": {
   "display_name": "env",
   "language": "python",
   "name": "python3"
  },
  "language_info": {
   "codemirror_mode": {
    "name": "ipython",
    "version": 3
   },
   "file_extension": ".py",
   "mimetype": "text/x-python",
   "name": "python",
   "nbconvert_exporter": "python",
   "pygments_lexer": "ipython3",
   "version": "3.9.20"
  }
 },
 "nbformat": 4,
 "nbformat_minor": 2
}
